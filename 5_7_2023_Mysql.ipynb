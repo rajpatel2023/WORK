{
 "cells": [
  {
   "attachments": {},
   "cell_type": "markdown",
   "metadata": {},
   "source": [
    "Todays's task\\\n",
    "-Dict comprihansen\\\n",
    "-mysql oprations\\\n",
    "    - orderby\\\n",
    "    - count\\\n",
    "    - having\\\n",
    "    - aggrogation\\\n",
    "    - Uniqe key\\\n",
    "    - Joints\\\n",
    "    - Python database connectivity\\\n",
    "    - CRUD oprations"
   ]
  },
  {
   "attachments": {},
   "cell_type": "markdown",
   "metadata": {},
   "source": [
    "### Dict comprihansion\n",
    "- zip only loop thorth small link\n",
    "- fromkeys(loop,value) if vales are specific (dont change) "
   ]
  },
  {
   "cell_type": "code",
   "execution_count": null,
   "metadata": {},
   "outputs": [],
   "source": [
    "keys = [1,2,3,4,5,6,7]\n",
    "values = [\"a\",\"b\",\"c\",\"d\",\"e\",\"f\",\"i\"]\n",
    "myDict = { k:v for k,v in zip(keys,values)}\n",
    "print(myDict)"
   ]
  },
  {
   "cell_type": "code",
   "execution_count": null,
   "metadata": {},
   "outputs": [],
   "source": [
    "dic = dict.fromkeys(range(5),True)\n",
    "dic\n",
    "l=\"GFG\"\n",
    "dic = {\n",
    "\tx: {y: x + y for y in l} for x in l\n",
    "}\n",
    "print(dic)\n"
   ]
  },
  {
   "attachments": {},
   "cell_type": "markdown",
   "metadata": {},
   "source": [
    "### dict oprations "
   ]
  },
  {
   "attachments": {},
   "cell_type": "markdown",
   "metadata": {},
   "source": [
    "- clear() [ remove all items]\n",
    "- copy() [make a copy its dont affect other]\n",
    "- fromkeys() [usr for crating initial dict]\n",
    "- get() [ get value from key , *if not present its return none not error* ]\n",
    "- items() [giv key, vlues pairs]\n",
    "- keys() [return list of keys]\n",
    "- values() [return list of values]\n",
    "- pop() [remove item or return None]\n",
    "- popitem() [ if not present its thow error][remove last item]\n",
    "- setdefault() \n",
    "- update() [ add other dict or update from other dict]"
   ]
  },
  {
   "cell_type": "code",
   "execution_count": null,
   "metadata": {},
   "outputs": [],
   "source": [
    "#clear()\n",
    "text = {1: \"raj\", 2: \"patel\"}\n",
    "print(text)\n",
    "text.clear()\n",
    "print(text)\n",
    "#copy()\n",
    "text = {1: \"raj\", 2: \"patel\"}\n",
    "print(id(text))\n",
    "raj = text.copy()\n",
    "id(raj)\n",
    "\n",
    "#fromkeys\n",
    "keys= [1,2,3,4,5,6]\n",
    "dic = dict.fromkeys(keys,True)\n",
    "print(dic)\n",
    "\n",
    "#get()\n",
    "text = {1: \"raj\", 2: \"patel\"}\n",
    "print(text.get(3))\n",
    "\n",
    "#items()\n",
    "text = {1: 1, 2: 2}\n",
    "for k,v in text.items():\n",
    "    print(k,\" \",v)\n",
    "\n",
    "#keys()\n",
    "text = {1: 1, 2: 2}\n",
    "print(text.keys())\n",
    "\n",
    "#values()\n",
    "print(text.values())\n",
    "\n",
    "#pop()\n",
    "print(text.pop(5,None))\n",
    "\n",
    "#popitem()\n",
    "text.popitem()\n",
    "#update()\n",
    "Dictionary1 = {'A': 1} \n",
    "sets = {1:1,2:2,3:3}\n",
    "print(Dictionary1)\n",
    "Dictionary1.update(B=2, C=3)\n",
    "Dictionary1.update(sets)\n",
    "print(Dictionary1)\n",
    "#setdefult()\n",
    "text.setdefault(\"r\",34)\n",
    "print(text)\n"
   ]
  },
  {
   "attachments": {},
   "cell_type": "markdown",
   "metadata": {},
   "source": [
    "# Mysql"
   ]
  },
  {
   "attachments": {},
   "cell_type": "markdown",
   "metadata": {},
   "source": [
    "**MySql shell**"
   ]
  },
  {
   "attachments": {},
   "cell_type": "markdown",
   "metadata": {},
   "source": [
    "__connection__\\\n",
    "`\\sql [swich js to Mysql];`\\\n",
    "`\\connect root@localhost`\\\n",
    "`\\connect Rajpatel@localhost;`"
   ]
  },
  {
   "attachments": {},
   "cell_type": "markdown",
   "metadata": {},
   "source": [
    "**create database**\\\n",
    "```CREATE SCHEMA `raj_intern_prectice` ;```\\\n",
    "or \\\n",
    "```CREATE DATABASE testDB;```"
   ]
  },
  {
   "attachments": {},
   "cell_type": "markdown",
   "metadata": {},
   "source": [
    "**create table**\n",
    "- create table (CREATE)\n",
    "- update table (MODIFY)\n",
    "- update table (ADD)\n",
    "- drop   table (DROP)"
   ]
  },
  {
   "cell_type": "code",
   "execution_count": null,
   "metadata": {
    "vscode": {
     "languageId": "sql"
    }
   },
   "outputs": [],
   "source": [
    "CREATE TABLE Persons (\n",
    "    PersonID int,\n",
    "    LastName varchar(255),\n",
    "    FirstName varchar(255),\n",
    "    Address varchar(255),\n",
    "    City varchar(255)\n",
    ");\n",
    "\n",
    "ALTER TABLE Persons\n",
    "ADD DateOfBirth date;\n",
    "\n",
    "ALTER TABLE Persons\n",
    "MODIFY COLUMN DateOfBirth year;\n",
    "\n",
    "ALTER TABLE Persons\n",
    "DROP COLUMN DateOfBirth;"
   ]
  },
  {
   "attachments": {},
   "cell_type": "markdown",
   "metadata": {},
   "source": [
    "**constrains**\n",
    "- NOT NULL\n",
    "- UNIQUE\n",
    "- PRIMARY KEY\n",
    "- FOREIGN KEY\n",
    "- CHECK\n",
    "- DEFAULT\n",
    "- [CREATE INDEX](https://stackoverflow.com/questions/1108/how-does-database-indexing-work)"
   ]
  },
  {
   "cell_type": "code",
   "execution_count": null,
   "metadata": {
    "vscode": {
     "languageId": "sql"
    }
   },
   "outputs": [],
   "source": [
    "-- not null\n",
    "ALTER TABLE Persons\n",
    "MODIFY PersonID int NOT NULL;\n",
    "\n",
    "-- UNIQUE\n",
    "ALTER TABLE Persons\n",
    "ADD CONSTRAINT UC_Person UNIQUE (PersonID,LastName);\n",
    "\n",
    "ALTER TABLE Persons\n",
    "DROP INDEX UC_Person;\n",
    "\n",
    "-- PRIMARY KEY & FOREIGN KEY\n",
    "CREATE TABLE Orders(\n",
    "OrderID int NOT NULL,\n",
    "OrderNamber int NOT NULL,\n",
    "PersonID int,\n",
    "PRIMARY KEY (OrderID),\n",
    "FOREIGN KEY (PersonID) REFERENCES Persons(PersonID) );\n",
    "\n",
    "ALTER TABLE Orders\n",
    "DROP FOREIGN KEY  orders_ibfk_1 ;\n",
    "\n",
    "--CHECK\n",
    "ALTER TABLE Persons1\n",
    "ADD CONSTRAINT CHK_PersonAge CHECK (Age>=18);\n",
    "\n",
    "ALTER TABLE Persons1\n",
    "DROP CHECK CHK_PersonAge;\n",
    "\n",
    "--Default\n",
    "ALTER TABLE Persons\n",
    "ALTER  LastName  SET Default \"PATEL\";\n",
    "\n",
    "ALTER TABLE Persons\n",
    "ALTER  LastName drop  Default ;\n",
    "\n",
    "--INDEX\n",
    "CREATE INDEX idx_lastname\n",
    "ON Persons(LastName);\n",
    "\n",
    "ALTER TABLE Persons\n",
    "DROP INDEX idx_lastname;\n",
    "\n",
    "--VIEW\n",
    "CREATE VIEW RAJ AS\n",
    "SELECT FirstName , LastName \n",
    "FROM Persons;\n",
    "\n",
    "SELECT * FROM RAJ;\n",
    "DROP VIEW RAJ;"
   ]
  },
  {
   "attachments": {},
   "cell_type": "markdown",
   "metadata": {},
   "source": [
    "### Insert value in database"
   ]
  },
  {
   "cell_type": "code",
   "execution_count": null,
   "metadata": {
    "vscode": {
     "languageId": "sql"
    }
   },
   "outputs": [],
   "source": [
    "CREATE TABLE Books2(\n",
    "    BookID   int  NOT NULL PRIMARY KEY AUTO_INCREMENT,\n",
    "    BookName   varchar (50) NULL,\n",
    "    Category   varchar (50) NULL,\n",
    "    Price   numeric (18, 2) NULL,\n",
    "    Price_Range varchar (20) NULL\n",
    ");\n",
    "\n",
    "INSERT INTO Books2\n",
    "    (BookName, Category, Price, Price_Range)\n",
    "VALUES\t\n",
    "    ('Computer Architecture', 'Computers', 125.6, '100-150'),\n",
    "    ('Advanced Composite Materials', 'Science', 172.56, '150-200'),\n",
    "    ('Asp.Net 4 Blue Book', 'Programming', 56.00, '50-100'),\n",
    "    ('Strategies Unplugged', 'Science', 99.99, '50-100'),\n",
    "    ('Teaching Science', 'Science', 164.10, '150-200'),\n",
    "    ('Challenging Times', 'Business', 150.70, '150-200'),\n",
    "    ('Circuit Bending', 'Science', 112.00, '100-150'),\n",
    "    ('Popular Science', 'Science', 210.40, '200-250'),\n",
    "    ('ADOBE Premiere', 'Computers', 62.20, '50-100');"
   ]
  },
  {
   "attachments": {},
   "cell_type": "markdown",
   "metadata": {},
   "source": [
    "### single table oprations\n",
    "- Where\n",
    "\n",
    "- Like [ _ single caractor , % multi caractor]\n",
    "- Aggrogation function (USING GROUP BY)\n",
    "    - MAX\n",
    "    - SUM\n",
    "    - COUNT\n",
    "    - AVG\n",
    "- Having\n",
    "- Orderby"
   ]
  },
  {
   "cell_type": "code",
   "execution_count": null,
   "metadata": {
    "vscode": {
     "languageId": "sql"
    }
   },
   "outputs": [],
   "source": [
    "SELECT * FROM raj_intern_prectice.books2\n",
    "where Price_Range Between 50 and 150;\n",
    "\n",
    "-- start with s\n",
    "SELECT * FROM raj_intern_prectice.books2\n",
    "where  Category  Like 's%';\n",
    "                         \n",
    "SELECT MAX(Price) FROM raj_intern_prectice.books2\n",
    "group by Category;\n",
    "\n",
    "SELECT SUM(Price) FROM raj_intern_prectice.books2\n",
    "group by Category;\n",
    "\n",
    "SELECT COUNT(Price) FROM raj_intern_prectice.books2\n",
    "group by Category;\n",
    "\n",
    "SELECT AVG(Price) FROM raj_intern_prectice.books2\n",
    "group by Category;\n",
    "\n",
    "-- filter after Gorup By\n",
    "SELECT AVG(Price) AS avgp FROM raj_intern_prectice.books2\n",
    "group by Category\n",
    "Having avgp>100 ;\n",
    "\n",
    "-- asc desc\n",
    "SELECT AVG(Price) AS avgp FROM raj_intern_prectice.books2\n",
    "group by Category\n",
    "Having avgp>100 \n",
    "order by avgp desc;"
   ]
  },
  {
   "attachments": {},
   "cell_type": "markdown",
   "metadata": {},
   "source": [
    "\n",
    "\n",
    "### multiple tables\n",
    "- JOINS\n",
    "    - self join\n",
    "    - innser join\n",
    "    - left join\n",
    "    - right join\n",
    "  \n"
   ]
  },
  {
   "cell_type": "code",
   "execution_count": null,
   "metadata": {
    "vscode": {
     "languageId": "sql"
    }
   },
   "outputs": [],
   "source": [
    "-- sef join\n",
    "SELECT * \n",
    "FROM bookstore.books as A , bookstore.books as B\n",
    "where A.Price > 100 and B.AuthorId = 1;\n",
    "\n",
    "--Inner Join\n",
    "SELECT *\n",
    "FROM Books\n",
    "INNER JOIN Categories\n",
    "ON Books.CategoryId = Categories.Id;\n",
    "\n",
    "-- Left Join\n",
    "SELECT *\n",
    "FROM Books\n",
    "LEFT JOIN Categories\n",
    "ON Books.CategoryId = Categories.Id;\n",
    "\n",
    "-- Right join\n",
    "SELECT *\n",
    "FROM Books\n",
    "Right JOIN Categories\n",
    "ON Books.CategoryId = Categories.Id;\n"
   ]
  },
  {
   "attachments": {},
   "cell_type": "markdown",
   "metadata": {},
   "source": [
    "\n",
    "### uniqe key \n",
    "- it is little like primary key but it can accept only one null value and it cannot have duplicate values."
   ]
  },
  {
   "cell_type": "code",
   "execution_count": null,
   "metadata": {
    "vscode": {
     "languageId": "sql"
    }
   },
   "outputs": [],
   "source": [
    "-- uniqe key on 2 fields (FirstName and LastName)\n",
    "ALTER TABLE Persons\n",
    "ADD CONSTRAINT UC_Person UNIQUE (FirstName,LastName);\n",
    "\n",
    "ALTER TABLE Persons\n",
    "DROP INDEX UC_Person;"
   ]
  },
  {
   "attachments": {},
   "cell_type": "markdown",
   "metadata": {},
   "source": [
    "# Python connectivity [link](https://pynative.com/python-mysql-database-connection/)\n",
    "- connect with python\n",
    "- create database\n",
    "- read opration(Using select)\n",
    "- create opration (table create)\n",
    "- create oprtion(Insert values)\n",
    "    - single rows [exicute()]\n",
    "    - multi rows [exicutemany()]\n",
    "    - commit()\n",
    "- fetchall()\n",
    "- fetchone()\n",
    "- fetchmany(size=5)\n",
    "- delete\n",
    "- Update()\n",
    "    - single rows\n",
    "    - multi rows\n"
   ]
  },
  {
   "cell_type": "code",
   "execution_count": 2,
   "metadata": {},
   "outputs": [
    {
     "name": "stdout",
     "output_type": "stream",
     "text": [
      "<mysql.connector.connection_cext.CMySQLConnection object at 0x0000019316BB1580>\n"
     ]
    }
   ],
   "source": [
    "import mysql.connector\n",
    "try:\n",
    "  mydb = mysql.connector.connect(\n",
    "    host=\"127.0.0.1\",\n",
    "    user=\"Rajpatel\",\n",
    "    password=\"Raj@1234\",\n",
    "    database=\"bookstore\"\n",
    "  )\n",
    "\n",
    "  print(mydb)\n",
    "except Exception as e:\n",
    "  print(e)"
   ]
  },
  {
   "cell_type": "code",
   "execution_count": 3,
   "metadata": {},
   "outputs": [
    {
     "name": "stdout",
     "output_type": "stream",
     "text": [
      "1007 (HY000): Can't create database 'mydatabase'; database exists\n"
     ]
    }
   ],
   "source": [
    "#  create database\n",
    "try:\n",
    "    mycursor = mydb.cursor()\n",
    "    mycursor.execute(\"CREATE DATABASE mydatabase\")\n",
    "except Exception as e:\n",
    "    print(e)\n",
    "    "
   ]
  },
  {
   "cell_type": "code",
   "execution_count": 4,
   "metadata": {},
   "outputs": [
    {
     "name": "stdout",
     "output_type": "stream",
     "text": [
      "(1, 'Computer Architecture', 'Computers', Decimal('125.60'), '100-150')\n",
      "(2, 'Advanced Composite Materials', 'Science', Decimal('172.56'), '150-200')\n",
      "(3, 'Asp.Net 4 Blue Book', 'Programming', Decimal('56.00'), '50-100')\n",
      "(4, 'Strategies Unplugged', 'Science', Decimal('99.99'), '50-100')\n",
      "(5, 'Teaching Science', 'Science', Decimal('164.10'), '150-200')\n",
      "(6, 'Challenging Times', 'Business', Decimal('150.70'), '150-200')\n",
      "(7, 'Circuit Bending', 'Science', Decimal('112.00'), '100-150')\n",
      "(9, 'ADOBE Premiere', 'Computers', Decimal('62.20'), '50-100')\n"
     ]
    }
   ],
   "source": [
    "# read opration\n",
    "try:\n",
    "    mycursor = mydb.cursor()\n",
    "    mycursor.execute(\"\"\"SELECT * FROM raj_intern_prectice.books2\n",
    "where Price_Range Between 50 and 150;\"\"\")\n",
    "except Exception as e:\n",
    "    print(e)\n",
    "for x in mycursor:\n",
    "  print(x)\n"
   ]
  },
  {
   "cell_type": "code",
   "execution_count": null,
   "metadata": {},
   "outputs": [],
   "source": [
    "#create commands\n",
    "try:\n",
    "    mycursor = mydb.cursor()\n",
    "    mycursor.execute(\"\"\"CREATE TABLE Books23(\n",
    "    BookID   int  NOT NULL PRIMARY KEY AUTO_INCREMENT,\n",
    "    BookName   varchar (50) NULL,\n",
    "    Category   varchar (50) NULL,\n",
    "    Price   numeric (18, 2) NULL,\n",
    "    Price_Range varchar (20) NULL\n",
    ");\"\"\")\n",
    "except Exception as e:\n",
    "    print(e)\n"
   ]
  },
  {
   "cell_type": "code",
   "execution_count": null,
   "metadata": {},
   "outputs": [],
   "source": [
    "mycursor.execute(\"CREATE TABLE customers (id INT AUTO_INCREMENT PRIMARY KEY, name VARCHAR(255), address VARCHAR(255))\")\n",
    "\n",
    "# update one colume\n",
    "mycursor = mydb.cursor()\n",
    "\n",
    "sql = \"INSERT INTO customers (name, address) VALUES (%s, %s)\"\n",
    "val = (\"John\", \"Highway 21\")\n",
    "mycursor.execute(sql, val)\n",
    "\n",
    "mydb.commit()     #for affect into database\n",
    "\n",
    "print(mycursor.rowcount, \"record inserted.\")"
   ]
  },
  {
   "cell_type": "code",
   "execution_count": null,
   "metadata": {},
   "outputs": [],
   "source": [
    "#multe updates \n",
    "mycursor = mydb.cursor()\n",
    "\n",
    "sql = \"INSERT INTO customers (name, address) VALUES (%s, %s)\"\n",
    "val = [\n",
    "  ('Peter', 'Lowstreet 4'),\n",
    "  ('Amy', 'Apple st 652'),\n",
    "  ('Hannah', 'Mountain 21'),\n",
    "  ('Michael', 'Valley 345'),\n",
    "  ('Sandy', 'Ocean blvd 2'),\n",
    "  ('Betty', 'Green Grass 1'),\n",
    "  ('Richard', 'Sky st 331'),\n",
    "  ('Susan', 'One way 98'),\n",
    "  ('Vicky', 'Yellow Garden 2'),\n",
    "  ('Ben', 'Park Lane 38'),\n",
    "  ('William', 'Central st 954'),\n",
    "  ('Chuck', 'Main Road 989'),\n",
    "  ('Viola', 'Sideway 1633')\n",
    "]\n",
    "\n",
    "mycursor.executemany(sql, val) #executemany for multiple query\n",
    "\n",
    "mydb.commit()\n",
    "\n",
    "print(mycursor.rowcount, \"was inserted.\")"
   ]
  },
  {
   "cell_type": "code",
   "execution_count": null,
   "metadata": {},
   "outputs": [],
   "source": [
    "mycursor = mydb.cursor()\n",
    "\n",
    "mycursor.execute(\"SELECT name, address FROM customers\")\n",
    "\n",
    "# myresult = mycursor.fetchall() dont know why we use\n",
    "\n",
    "for x in mycursor:\n",
    "  print(x)"
   ]
  },
  {
   "cell_type": "code",
   "execution_count": null,
   "metadata": {},
   "outputs": [],
   "source": [
    "# delete opeation\n",
    "mycursor = mydb.cursor()\n",
    "mycursor.execute(\"DELETE   FROM customers where id = 34;\")\n",
    "mydb.commit()\n"
   ]
  },
  {
   "cell_type": "code",
   "execution_count": null,
   "metadata": {},
   "outputs": [],
   "source": [
    "#update opration\n",
    "mycursor = mydb.cursor()\n",
    "user_input = [\"raj\"]\n",
    "mycursor.execute(\"UPDATE  customers   set name = %s where id = 35;\",user_input)\n",
    "mydb.commit()"
   ]
  },
  {
   "cell_type": "code",
   "execution_count": 66,
   "metadata": {},
   "outputs": [],
   "source": [
    "mycursor.execute(\"DELETE   FROM customers where id = 34;\")\n",
    "mycursor.execute(\"SELECT *  FROM customers where id = 35;\")\n",
    "\n",
    "for i in mycursor:\n",
    "    print(i)"
   ]
  },
  {
   "attachments": {},
   "cell_type": "markdown",
   "metadata": {},
   "source": [
    "[cursor questions](https://stackoverflow.com/questions/22921181/python-mysql-connector-executing-second-sql-statement-within-cursor-loop)\\\n",
    "[2nd](https://stackoverflow.com/questions/11927146/python-mysqldb-multiple-cursors-for-one-connection)"
   ]
  }
 ],
 "metadata": {
  "kernelspec": {
   "display_name": "Python 3",
   "language": "python",
   "name": "python3"
  },
  "language_info": {
   "codemirror_mode": {
    "name": "ipython",
    "version": 3
   },
   "file_extension": ".py",
   "mimetype": "text/x-python",
   "name": "python",
   "nbconvert_exporter": "python",
   "pygments_lexer": "ipython3",
   "version": "3.8.10"
  },
  "orig_nbformat": 4
 },
 "nbformat": 4,
 "nbformat_minor": 2
}
