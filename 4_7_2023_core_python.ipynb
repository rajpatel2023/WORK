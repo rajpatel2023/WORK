{
 "cells": [
  {
   "attachments": {},
   "cell_type": "markdown",
   "metadata": {},
   "source": [
    "4_7_2023\n",
    "\n",
    "task done:\n",
    "\n",
    "Python datatypes\\\n",
    "-List\\\n",
    "-tuples\\\n",
    "-set\\\n",
    "-dict\\\n",
    "-loops[for,while]\\\n",
    "-map function\\\n",
    "-lambda function\\\n",
    "-functions\\\n",
    "-class\\\n",
    "-Inharitance\n",
    "\n",
    "pending:\n",
    "\n",
    "Dictionary Comprehension\\\n",
    "Dictionary Oprations"
   ]
  },
  {
   "attachments": {},
   "cell_type": "markdown",
   "metadata": {},
   "source": [
    "# List"
   ]
  },
  {
   "cell_type": "code",
   "execution_count": 107,
   "metadata": {},
   "outputs": [
    {
     "name": "stdout",
     "output_type": "stream",
     "text": [
      "1585510551296\n",
      "1585510551296\n"
     ]
    }
   ],
   "source": [
    "a = [1,2,3,4,5]\n",
    "print(id(a))\n",
    "b = a\n",
    "print(id(b))"
   ]
  },
  {
   "cell_type": "code",
   "execution_count": 1,
   "metadata": {},
   "outputs": [
    {
     "data": {
      "text/plain": [
       "[3, 2, 1]"
      ]
     },
     "execution_count": 1,
     "metadata": {},
     "output_type": "execute_result"
    }
   ],
   "source": [
    "a = [1,2,3]\n",
    "a[::-1]\n"
   ]
  },
  {
   "attachments": {},
   "cell_type": "markdown",
   "metadata": {},
   "source": [
    "summary :- if we change into list b its change at memory level so link a will be change"
   ]
  },
  {
   "cell_type": "code",
   "execution_count": 108,
   "metadata": {},
   "outputs": [],
   "source": [
    "b.append(\"list\")"
   ]
  },
  {
   "cell_type": "code",
   "execution_count": 109,
   "metadata": {},
   "outputs": [
    {
     "name": "stdout",
     "output_type": "stream",
     "text": [
      "[1, 2, 3, 4, 5, 'list']\n"
     ]
    }
   ],
   "source": [
    "print(a)"
   ]
  },
  {
   "attachments": {},
   "cell_type": "markdown",
   "metadata": {},
   "source": [
    "## comman opration\n",
    "\n",
    "1. `append()`[only one element ][at end of list]\n",
    "2. `extend()`[more then one values][at end of the list  ]\n",
    "3. `insert()`[at index values]\n",
    "4. `del()`   [delete value from list using index]\n",
    "4. `remove()`[remove alemet or thorw error]\n",
    "5. `pop()`   [index or last element]\n",
    "6. `clear()` [remove all element]\n",
    "7. `index()`\n",
    "8. `count()` [count element]\n",
    "9. `sort()`  [sort element]\n",
    "10. `reverse()`\n",
    "11. `copy()`"
   ]
  },
  {
   "cell_type": "code",
   "execution_count": 110,
   "metadata": {},
   "outputs": [
    {
     "data": {
      "text/plain": [
       "[]"
      ]
     },
     "execution_count": 110,
     "metadata": {},
     "output_type": "execute_result"
    }
   ],
   "source": [
    "a = [1,2,3,4,5,6,7,8,9,0]\n",
    "# a.append([1,2,3])   nested list\n",
    "a.extend([1,2,3,4])\n",
    "a.insert(2,8)\n",
    "a.remove(8)\n",
    "a.pop(10)\n",
    "a.clear()\n",
    "a.count(1)\n",
    "a"
   ]
  },
  {
   "attachments": {},
   "cell_type": "markdown",
   "metadata": {},
   "source": [
    "## for loop with List\n",
    "1. acces element with index\n",
    "2. direct  element in forloop\n",
    "3. index and element both "
   ]
  },
  {
   "cell_type": "code",
   "execution_count": 111,
   "metadata": {},
   "outputs": [
    {
     "name": "stdout",
     "output_type": "stream",
     "text": [
      "1\n",
      "2\n",
      "3\n",
      "0\n",
      "5\n",
      "6\n",
      "7\n",
      "8\n",
      "9\n",
      "1\n",
      "2\n",
      "3\n",
      "0\n",
      "5\n",
      "6\n",
      "7\n",
      "8\n",
      "9\n",
      "index  0  values 1\n",
      "index  1  values 2\n",
      "index  2  values 3\n",
      "index  3  values 0\n",
      "index  4  values 5\n",
      "index  5  values 6\n",
      "index  6  values 7\n",
      "index  7  values 8\n",
      "index  8  values 9\n"
     ]
    }
   ],
   "source": [
    "# 1\n",
    "a = [1,2,3,0,5,6,7,8,9]\n",
    "for i in range(len(a)):\n",
    "    print(a[i])\n",
    "#2\n",
    "for i in a:\n",
    "    print(i)\n",
    "#3\n",
    "for ind,val in enumerate(a):\n",
    "    print(\"index \" , ind , \" values\", val)"
   ]
  },
  {
   "attachments": {},
   "cell_type": "markdown",
   "metadata": {},
   "source": [
    "## list comprehension [one line list + for loop + if comdition]\n",
    "[faster then loop and map function](https://www.linkedin.com/pulse/loop-vs-list-comprehension-map-function-akhilesh-singh#:~:text=specific%20use%20case.-,List%20comprehensions%20are%20often%20faster%20than%20loops%20because%20they%20use,lead%20to%20more%20efficient%20code.)"
   ]
  },
  {
   "cell_type": "code",
   "execution_count": 112,
   "metadata": {},
   "outputs": [
    {
     "name": "stdout",
     "output_type": "stream",
     "text": [
      "4 25 16 49 25 1156 36 \n",
      "[4, 25, 16, 49, 25, 1156, 36]\n",
      "Same\n",
      "Diffrent\n",
      "Diffrent\n",
      "Diffrent\n",
      "Diffrent\n",
      "Diffrent\n",
      "Diffrent\n",
      "Same\n",
      "Diffrent\n",
      "Diffrent\n",
      "Diffrent\n",
      "Diffrent\n",
      "Diffrent\n",
      "Diffrent\n",
      "Same\n",
      "Diffrent\n",
      "Diffrent\n",
      "Diffrent\n",
      "Diffrent\n",
      "Diffrent\n",
      "Diffrent\n",
      "Same\n",
      "Diffrent\n",
      "Diffrent\n",
      "Diffrent\n",
      "Diffrent\n",
      "Diffrent\n",
      "Diffrent\n",
      "Same\n",
      "Diffrent\n",
      "Diffrent\n",
      "Diffrent\n",
      "Diffrent\n",
      "Diffrent\n",
      "Diffrent\n",
      "Same\n"
     ]
    }
   ],
   "source": [
    "#normal function\n",
    "numbers = [ 2,5,4,7,5,34,6]\n",
    "for i in numbers:\n",
    "    print(i*i,end=\" \")\n",
    "print()\n",
    "\n",
    "#list comprihansen\n",
    "doubles = [x*x for x in numbers]\n",
    "print(doubles)    \n",
    "number = [0,1,2,3,4,5]\n",
    "number2 = [0,1,2,3,4,5]\n",
    "\n",
    "#list comprihance with if and else condition\n",
    "\n",
    "output = [print(\"Diffrent\") if x!=y else print(\"Same\") for x in number for y in number2]\n",
    "\n",
    "# output = [x*y if x!=y else x-y for x in number for y in number2]"
   ]
  },
  {
   "attachments": {},
   "cell_type": "markdown",
   "metadata": {},
   "source": [
    "### Dict comprihansion\n",
    "- zip only loop thorth small link\n",
    "- fromkeys(loop,value) if vales are specific (dont change) "
   ]
  },
  {
   "cell_type": "code",
   "execution_count": 1,
   "metadata": {},
   "outputs": [
    {
     "name": "stdout",
     "output_type": "stream",
     "text": [
      "{1: 'a', 2: 'b', 3: 'c', 4: 'd', 5: 'e', 6: 'f', 7: 'i'}\n"
     ]
    }
   ],
   "source": [
    "keys = [1,2,3,4,5,6,7]\n",
    "values = [\"a\",\"b\",\"c\",\"d\",\"e\",\"f\",\"i\"]\n",
    "myDict = { k:v for k,v in zip(keys,values)}\n",
    "print(myDict)"
   ]
  },
  {
   "cell_type": "code",
   "execution_count": 2,
   "metadata": {},
   "outputs": [
    {
     "name": "stdout",
     "output_type": "stream",
     "text": [
      "{'G': {'G': 'GG', 'F': 'GF'}, 'F': {'G': 'FG', 'F': 'FF'}}\n"
     ]
    }
   ],
   "source": [
    "dic = dict.fromkeys(range(5),True)\n",
    "dic\n",
    "l=\"GFG\"\n",
    "dic = {\n",
    "\tx: {y: x + y for y in l} for x in l\n",
    "}\n",
    "print(dic)\n"
   ]
  },
  {
   "attachments": {},
   "cell_type": "markdown",
   "metadata": {},
   "source": [
    "### dict oprations"
   ]
  },
  {
   "attachments": {},
   "cell_type": "markdown",
   "metadata": {},
   "source": [
    "- clear() [ remove all items]\n",
    "- copy() [make a copy its dont affect other]\n",
    "- fromkeys() [usr for crating initial dict]\n",
    "- get() [ get value from key , *if not present its return none not error* ]\n",
    "- items() [giv key, vlues pairs]\n",
    "- keys() [return list of keys]\n",
    "- values() [return list of values]\n",
    "- pop() [remove item or return None]\n",
    "- popitem() [ if not present its thow error][remove last item]\n",
    "- setdefault() \n",
    "- update() [ add other dict or update from other dict]"
   ]
  },
  {
   "cell_type": "code",
   "execution_count": 3,
   "metadata": {},
   "outputs": [
    {
     "name": "stdout",
     "output_type": "stream",
     "text": [
      "{1: 'raj', 2: 'patel'}\n",
      "{}\n",
      "2283410953088\n",
      "{1: True, 2: True, 3: True, 4: True, 5: True, 6: True}\n",
      "None\n",
      "1   1\n",
      "2   2\n",
      "dict_keys([1, 2])\n",
      "dict_values([1, 2])\n",
      "None\n",
      "{'A': 1}\n",
      "{'A': 1, 'B': 2, 'C': 3, 1: 1, 2: 2, 3: 3}\n",
      "{1: 1, 'r': 34}\n"
     ]
    }
   ],
   "source": [
    "#clear()\n",
    "text = {1: \"raj\", 2: \"patel\"}\n",
    "print(text)\n",
    "text.clear()\n",
    "print(text)\n",
    "#copy()\n",
    "text = {1: \"raj\", 2: \"patel\"}\n",
    "print(id(text))\n",
    "raj = text.copy()\n",
    "id(raj)\n",
    "\n",
    "#fromkeys\n",
    "keys= [1,2,3,4,5,6]\n",
    "dic = dict.fromkeys(keys,True)\n",
    "print(dic)\n",
    "\n",
    "#get()\n",
    "text = {1: \"raj\", 2: \"patel\"}\n",
    "print(text.get(3))\n",
    "\n",
    "#items()\n",
    "text = {1: 1, 2: 2}\n",
    "for k,v in text.items():\n",
    "    print(k,\" \",v)\n",
    "\n",
    "#keys()\n",
    "text = {1: 1, 2: 2}\n",
    "print(text.keys())\n",
    "\n",
    "#values()\n",
    "print(text.values())\n",
    "\n",
    "#pop()\n",
    "print(text.pop(5,None))\n",
    "\n",
    "#popitem()\n",
    "text.popitem()\n",
    "#update()\n",
    "Dictionary1 = {'A': 1} \n",
    "sets = {1:1,2:2,3:3}\n",
    "print(Dictionary1)\n",
    "Dictionary1.update(B=2, C=3)\n",
    "Dictionary1.update(sets)\n",
    "print(Dictionary1)\n",
    "#setdefult()\n",
    "text.setdefault(\"r\",34)\n",
    "print(text)"
   ]
  },
  {
   "attachments": {},
   "cell_type": "markdown",
   "metadata": {},
   "source": [
    "# tuples\n",
    "- can't cange values\n",
    "- cant add touple and list (3,)[touple type]\n",
    "removes dublicates"
   ]
  },
  {
   "cell_type": "code",
   "execution_count": 113,
   "metadata": {},
   "outputs": [
    {
     "data": {
      "text/plain": [
       "tuple"
      ]
     },
     "execution_count": 113,
     "metadata": {},
     "output_type": "execute_result"
    }
   ],
   "source": [
    "a = (10,)\n",
    "type(a)"
   ]
  },
  {
   "cell_type": "code",
   "execution_count": 114,
   "metadata": {},
   "outputs": [],
   "source": [
    "a = (1,2,3,4,5,6)\n",
    "# a.append(3)\n",
    "a = a + (3,)"
   ]
  },
  {
   "attachments": {},
   "cell_type": "markdown",
   "metadata": {},
   "source": [
    "## set\n",
    "### no duplication\n",
    "- all maths opration perform can't use (+)\n",
    "- unorderd Distinct list"
   ]
  },
  {
   "cell_type": "code",
   "execution_count": 115,
   "metadata": {},
   "outputs": [
    {
     "name": "stdout",
     "output_type": "stream",
     "text": [
      "{1, 2}\n",
      "{3, 4}\n",
      "{1, 2, 3, 4, 5, 6}\n",
      "{1, 2, 5, 6}\n"
     ]
    }
   ],
   "source": [
    "a = {1,1,1,2,3,3,3,3,3,4}\n",
    "b = {3,4,5,6,6,6,6,6}\n",
    "print(a - b) \n",
    "print(a & b)\n",
    "print(a | b)\n",
    "print(a ^ b)"
   ]
  },
  {
   "attachments": {},
   "cell_type": "markdown",
   "metadata": {},
   "source": [
    "### also in listcomprihansen"
   ]
  },
  {
   "cell_type": "code",
   "execution_count": 116,
   "metadata": {},
   "outputs": [
    {
     "name": "stdout",
     "output_type": "stream",
     "text": [
      "a b c d e f g h i j k l ['a', 'b', 'c', 'd', 'e', 'f', 'g', 'h', 'i', 'j', 'k', 'l']\n"
     ]
    }
   ],
   "source": [
    "for i in 'abcdefghijkl':\n",
    "    print(i,end=\" \")\n",
    "\n",
    "list1 = [x for x in 'abcdefghijkl']\n",
    "print(list1)"
   ]
  },
  {
   "attachments": {},
   "cell_type": "markdown",
   "metadata": {},
   "source": [
    "## dict [object  [key values pair]]"
   ]
  },
  {
   "cell_type": "code",
   "execution_count": 117,
   "metadata": {},
   "outputs": [],
   "source": [
    "dict_ = {\n",
    "    \"good\":\"oaky\",\n",
    "    1:23,\n",
    "    2:[(1,2,3)],\n",
    "    3:(2,3,4)\n",
    "}"
   ]
  },
  {
   "attachments": {},
   "cell_type": "markdown",
   "metadata": {},
   "source": [
    "### loops"
   ]
  },
  {
   "cell_type": "code",
   "execution_count": 118,
   "metadata": {},
   "outputs": [
    {
     "name": "stdout",
     "output_type": "stream",
     "text": [
      "good oaky\n",
      "1 23\n",
      "2 [(1, 2, 3)]\n",
      "3 (2, 3, 4)\n"
     ]
    }
   ],
   "source": [
    "for i,j in dict_.items():\n",
    "    print(i,j)"
   ]
  },
  {
   "cell_type": "code",
   "execution_count": 119,
   "metadata": {},
   "outputs": [
    {
     "name": "stdout",
     "output_type": "stream",
     "text": [
      "0 good oaky\n",
      "1 1 23\n",
      "2 2 [(1, 2, 3)]\n",
      "3 3 (2, 3, 4)\n"
     ]
    }
   ],
   "source": [
    "for i,j in enumerate(dict_):\n",
    "    print(i,j,dict_[j])"
   ]
  },
  {
   "cell_type": "code",
   "execution_count": 120,
   "metadata": {},
   "outputs": [
    {
     "data": {
      "text/plain": [
       "dict_values(['oaky', 23, [(1, 2, 3)], (2, 3, 4)])"
      ]
     },
     "execution_count": 120,
     "metadata": {},
     "output_type": "execute_result"
    }
   ],
   "source": [
    "dict_.values()"
   ]
  },
  {
   "attachments": {},
   "cell_type": "markdown",
   "metadata": {},
   "source": [
    "### for loop\n",
    "- can't do for Ture: (infinity loop)"
   ]
  },
  {
   "cell_type": "code",
   "execution_count": 121,
   "metadata": {},
   "outputs": [
    {
     "name": "stdout",
     "output_type": "stream",
     "text": [
      "5\n",
      "7\n",
      "9\n",
      "10\n",
      "9\n",
      "8\n",
      "7\n",
      "6\n",
      "0\n",
      "1\n",
      "2\n"
     ]
    }
   ],
   "source": [
    "for i in range(10):\n",
    "    # print(i)\n",
    "    pass\n",
    "for i in range(5,10,2):\n",
    "    print(i)\n",
    "for i in range(10,5,-1):\n",
    "    print(i)\n",
    "for i in range(10):\n",
    "    if i == 3:\n",
    "        break\n",
    "    print(i)\n"
   ]
  },
  {
   "attachments": {},
   "cell_type": "markdown",
   "metadata": {},
   "source": [
    "### while loop\n",
    "- if u don't know the range"
   ]
  },
  {
   "cell_type": "code",
   "execution_count": 122,
   "metadata": {},
   "outputs": [
    {
     "name": "stdout",
     "output_type": "stream",
     "text": [
      "0\n",
      "1\n",
      "2\n",
      "3\n",
      "4\n"
     ]
    }
   ],
   "source": [
    "i=0\n",
    "while True:\n",
    "    print(i)\n",
    "    i+=1\n",
    "    if i==5:\n",
    "        break"
   ]
  },
  {
   "cell_type": "code",
   "execution_count": 123,
   "metadata": {},
   "outputs": [
    {
     "name": "stdout",
     "output_type": "stream",
     "text": [
      "0\n",
      "1\n",
      "2\n",
      "3\n",
      "4\n",
      "5\n",
      "Done\n"
     ]
    }
   ],
   "source": [
    "i = 0\n",
    "while i < 6:\n",
    "    print(i)\n",
    "    i+=1\n",
    "else:             \n",
    "    print(\"Done\")"
   ]
  },
  {
   "attachments": {},
   "cell_type": "markdown",
   "metadata": {},
   "source": [
    "### map(for each type)\n",
    "\n",
    "- map(function, list)"
   ]
  },
  {
   "cell_type": "code",
   "execution_count": 124,
   "metadata": {},
   "outputs": [
    {
     "name": "stdout",
     "output_type": "stream",
     "text": [
      "['A', 'B', 'C', 'D']\n"
     ]
    }
   ],
   "source": [
    "a = [\"a\",\"b\",\"c\",\"d\"]\n",
    "b = list(map(str.upper,a))\n",
    "print(b)"
   ]
  },
  {
   "attachments": {},
   "cell_type": "markdown",
   "metadata": {},
   "source": [
    "### lambda function    [one line function ]"
   ]
  },
  {
   "cell_type": "code",
   "execution_count": 125,
   "metadata": {},
   "outputs": [
    {
     "data": {
      "text/plain": [
       "9"
      ]
     },
     "execution_count": 125,
     "metadata": {},
     "output_type": "execute_result"
    }
   ],
   "source": [
    "f = lambda x, y : x+y\n",
    "f(4,5)"
   ]
  },
  {
   "cell_type": "code",
   "execution_count": 126,
   "metadata": {},
   "outputs": [
    {
     "name": "stdout",
     "output_type": "stream",
     "text": [
      "16\n"
     ]
    }
   ],
   "source": [
    "square = lambda x : x*x if(x > 0) else None\n",
    " \n",
    "print(square(4))"
   ]
  },
  {
   "attachments": {},
   "cell_type": "markdown",
   "metadata": {},
   "source": [
    "# fucntion\n",
    "- simple function\n",
    "- recursive(self_calling_function)\n",
    "- pass keyword"
   ]
  },
  {
   "cell_type": "code",
   "execution_count": 127,
   "metadata": {},
   "outputs": [
    {
     "name": "stdout",
     "output_type": "stream",
     "text": [
      "7\n"
     ]
    }
   ],
   "source": [
    "def add_two_numbers(a,b):\n",
    "    return a+b \n",
    "print(add_two_numbers(3,4))"
   ]
  },
  {
   "cell_type": "code",
   "execution_count": 128,
   "metadata": {},
   "outputs": [],
   "source": [
    "def re_foo(n):\n",
    "    if n <=1:\n",
    "        return n \n",
    "    else:\n",
    "        return (re_foo(n-1) + re_foo(n-2))\n",
    "re_foo(10)\n",
    "\n",
    "def funct():\n",
    "    pass"
   ]
  },
  {
   "attachments": {},
   "cell_type": "markdown",
   "metadata": {},
   "source": [
    "# classes\n",
    " - constartctor (__init__)\n",
    " - [decorstores ( @staticmethod, @classmethod](https://betterprogramming.pub/how-to-use-the-magical-staticmethod-classmethod-and-property-decorators-in-python-e42dd74e51e7)\n",
    " - class Meta:\n",
    " - __str__ (doddermethods)\n",
    " - private varibles\n",
    " - class varibles"
   ]
  },
  {
   "cell_type": "code",
   "execution_count": 129,
   "metadata": {},
   "outputs": [],
   "source": [
    "class Person():\n",
    "    \n",
    "    def __init__(self,name,age,number):\n",
    "        self.name = name\n",
    "        self.age = age\n",
    "        self.number = number\n",
    "        self.__greating = \"good Morning\" #cant accces outside of class or instace \n",
    "    \n",
    "    def __str__(self):\n",
    "        return f\"my name id {self.name}. my age is {self.age}.muber {self.number}\"\n",
    "        \n",
    "    def counter(self):\n",
    "        self.number+=1\n",
    "        return self\n",
    "\n",
    "    #can use wihout instance / no self argument\n",
    "    @staticmethod\n",
    "    def test_static_method():\n",
    "        return print(\"this is static.and i dont know th use of it\")\n",
    "    \n",
    "    #create an instaice of cls , aregs cls \n",
    "    @classmethod\n",
    "    def test_class_method(cls,number):\n",
    "        raj = cls(\"raj\",number,23)\n",
    "        print(\"class creted\")\n",
    "        return raj\n",
    "\n",
    "    def private_varible_show(self):\n",
    "        return self.__greating\n",
    "\n",
    "\n",
    "    class Meta:\n",
    "        pass\n",
    "        # metaclass is just the stuff that creates class objects."
   ]
  },
  {
   "cell_type": "code",
   "execution_count": 130,
   "metadata": {},
   "outputs": [
    {
     "name": "stdout",
     "output_type": "stream",
     "text": [
      "my name id RAJ. my age is 21.muber 58\n",
      "59\n",
      "this is static.and i dont know th use of it\n"
     ]
    }
   ],
   "source": [
    "print(Person(\"RAJ\",21,58))\n",
    "raj = Person(\"RAJ\",21,58)\n",
    "raj.counter()\n",
    "print(raj.number)\n",
    "Person.test_static_method()"
   ]
  },
  {
   "cell_type": "code",
   "execution_count": 131,
   "metadata": {},
   "outputs": [
    {
     "name": "stdout",
     "output_type": "stream",
     "text": [
      "class creted\n"
     ]
    }
   ],
   "source": [
    "Raj = Person.test_class_method(23)"
   ]
  },
  {
   "cell_type": "code",
   "execution_count": 132,
   "metadata": {},
   "outputs": [
    {
     "data": {
      "text/plain": [
       "'good Morning'"
      ]
     },
     "execution_count": 132,
     "metadata": {},
     "output_type": "execute_result"
    }
   ],
   "source": [
    "raj.private_varible_show()"
   ]
  },
  {
   "attachments": {},
   "cell_type": "markdown",
   "metadata": {},
   "source": [
    "# inharitance [geeks for geeks site](https://www.geeksforgeeks.org/types-of-inheritance-python/)\n",
    "1. Single Inharitance\n",
    "2. multiple Inharitance\n",
    "3. Multilevel Inharitance\n",
    "4. Hierarchical Inheritance\n",
    "- if a parent class fuction is private cant override\n",
    "- if multi parents have same function, first will be exicute"
   ]
  },
  {
   "attachments": {},
   "cell_type": "markdown",
   "metadata": {},
   "source": [
    "### 1.single inharitance\n",
    " - use super() to call chirld -> parent"
   ]
  },
  {
   "cell_type": "code",
   "execution_count": 133,
   "metadata": {},
   "outputs": [],
   "source": [
    "class Parent:\n",
    "    def func1(self):\n",
    "        print(\"this is parent funct 1\")\n",
    "    def funct2(self):\n",
    "        print(\"this is parent funct  2\")\n",
    "class Child(Parent):\n",
    "        def func2(self):\n",
    "            super().funct2()\n",
    "            print(\"this is chiild\")\n"
   ]
  },
  {
   "cell_type": "code",
   "execution_count": 134,
   "metadata": {},
   "outputs": [
    {
     "name": "stdout",
     "output_type": "stream",
     "text": [
      "this is parent funct 1\n",
      "this is parent funct  2\n",
      "this is chiild\n"
     ]
    }
   ],
   "source": [
    "object = Child()\n",
    "object.func1()\n",
    "object.func2()"
   ]
  },
  {
   "attachments": {},
   "cell_type": "markdown",
   "metadata": {},
   "source": [
    "### 2. multiple Inharitance"
   ]
  },
  {
   "cell_type": "code",
   "execution_count": 135,
   "metadata": {},
   "outputs": [],
   "source": [
    "class mother:\n",
    "    mother_name = ''\n",
    "    def mother(self):\n",
    "        print(self.mother_name)\n",
    "    def fathername(self):\n",
    "        print(\"this is first class iwth same function\")\n",
    "class father:\n",
    "    father_name = ''\n",
    "    def fathername(self):\n",
    "        print(self.father_name)\n",
    "class son(mother,father):\n",
    "    def parents(self):\n",
    "        super().fathername()\n",
    "        print(\"father:\",self.father_name)\n",
    "        print(\"mother\",self.mother_name)\n",
    "\n"
   ]
  },
  {
   "cell_type": "code",
   "execution_count": 136,
   "metadata": {},
   "outputs": [
    {
     "name": "stdout",
     "output_type": "stream",
     "text": [
      "this is first class iwth same function\n",
      "father: father\n",
      "mother mother\n"
     ]
    }
   ],
   "source": [
    "s1 = son()\n",
    "s1.father_name = \"father\"\n",
    "s1.mother_name = \"mother\"\n",
    "s1.parents()"
   ]
  },
  {
   "attachments": {},
   "cell_type": "markdown",
   "metadata": {},
   "source": [
    "### 3. Multilevel Inharitance\n",
    "- its thow error for acccesing child -> grandfather  varibles"
   ]
  },
  {
   "cell_type": "code",
   "execution_count": 137,
   "metadata": {},
   "outputs": [],
   "source": [
    "class grandfather():\n",
    "    def __init__(self,grandfather_name):\n",
    "        self.grandfather_name = grandfather_name\n",
    "class father(grandfather):\n",
    "    def __init__(self,father_name,grandfather_name):\n",
    "        self.father_name = father_name\n",
    "        grandfather.__init__(self,grandfather_name)\n",
    "\n",
    "class son(father):\n",
    "    def __init__(self, sonname, father_name, grandfather_name):\n",
    "        self.sonname = sonname\n",
    "        father.__init__(self,father_name,grandfather_name)\n",
    "\n",
    "    def parents(self):\n",
    "        print(\"Son name :\", self.sonname)\n",
    "        print(\"father:\",self.father_name)\n",
    "        print(\"grandfather\",self.grandfather_name)\n"
   ]
  },
  {
   "cell_type": "code",
   "execution_count": 138,
   "metadata": {},
   "outputs": [
    {
     "name": "stdout",
     "output_type": "stream",
     "text": [
      "Son name : raj\n",
      "father: father\n",
      "grandfather grandfather\n"
     ]
    }
   ],
   "source": [
    "s1 = son(\"raj\",\"father\",\"grandfather\")\n",
    "s1.parents()"
   ]
  },
  {
   "cell_type": "code",
   "execution_count": 139,
   "metadata": {},
   "outputs": [],
   "source": [
    "class Parent:\n",
    "\tdef func1(self):\n",
    "\t\tprint(\"This function is in parent class.\")\n",
    "class Child1(Parent):\n",
    "\tdef func2(self):\n",
    "\t\tprint(\"This function is in child 1.\")\n",
    "class Child2(Parent):\n",
    "\tdef func3(self):\n",
    "\t\tprint(\"This function is in child 2.\")\n"
   ]
  },
  {
   "cell_type": "code",
   "execution_count": 140,
   "metadata": {},
   "outputs": [
    {
     "name": "stdout",
     "output_type": "stream",
     "text": [
      "This function is in parent class.\n",
      "This function is in child 1.\n",
      "This function is in parent class.\n",
      "This function is in child 2.\n"
     ]
    }
   ],
   "source": [
    "raj = Child1()\n",
    "panthil = Child2()\n",
    "raj.func1()\n",
    "raj.func2()\n",
    "panthil.func1()\n",
    "panthil.func3()"
   ]
  }
 ],
 "metadata": {
  "kernelspec": {
   "display_name": "Python 3",
   "language": "python",
   "name": "python3"
  },
  "language_info": {
   "codemirror_mode": {
    "name": "ipython",
    "version": 3
   },
   "file_extension": ".py",
   "mimetype": "text/x-python",
   "name": "python",
   "nbconvert_exporter": "python",
   "pygments_lexer": "ipython3",
   "version": "3.8.10"
  },
  "orig_nbformat": 4
 },
 "nbformat": 4,
 "nbformat_minor": 2
}
