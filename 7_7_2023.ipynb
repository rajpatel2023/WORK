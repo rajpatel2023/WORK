{
 "cells": [
  {
   "cell_type": "markdown",
   "metadata": {},
   "source": [
    "[Threading](https://towardsdatascience.com/multithreading-multiprocessing-python-180d0975ab29)\n",
    "\n",
    "- single porcess / same memory\n",
    "- swiching in I/O oprations\n",
    "- no diff im CPU process(multithreding)\n",
    "\n",
    "\n",
    "\n",
    "[basic info upto race condition](https://realpython.com/intro-to-python-threading/)"
   ]
  },
  {
   "cell_type": "markdown",
   "metadata": {},
   "source": [
    "[offical doc](https://docs.python.org/3/library/threading.html)"
   ]
  },
  {
   "cell_type": "markdown",
   "metadata": {},
   "source": [
    "[Daemon threads](https://www.geeksforgeeks.org/python-daemon-threads/)\n",
    "\n",
    "- by defualt = Flase\n",
    "- if its true\n",
    " - main program complate all other threds get destroy"
   ]
  },
  {
   "cell_type": "code",
   "execution_count": 6,
   "metadata": {},
   "outputs": [
    {
     "name": "stdout",
     "output_type": "stream",
     "text": [
      "non-daemon thread 0\n",
      "non-daemon thread 1\n",
      "non-daemon thread 2\n",
      "main Thread over\n"
     ]
    },
    {
     "name": "stdout",
     "output_type": "stream",
     "text": [
      "non-daemon thread 3\n",
      "non-daemon thread 4\n"
     ]
    }
   ],
   "source": [
    "from threading import *\n",
    "import time \n",
    "\n",
    "def thread_1(n):\n",
    "    for i in range(n):\n",
    "        print(\"non-daemon thread\",i)\n",
    "        time.sleep(2)\n",
    "create_thread = Thread(target=thread_1,args=(5,))\n",
    "create_thread.start()\n",
    "time.sleep(5)\n",
    "print(\"main Thread over\")\n"
   ]
  },
  {
   "cell_type": "code",
   "execution_count": 7,
   "metadata": {},
   "outputs": [
    {
     "name": "stdout",
     "output_type": "stream",
     "text": [
      "non-daemon thread 0\n",
      "non-daemon thread 1\n",
      "non-daemon thread 2\n",
      "main Thread over\n"
     ]
    },
    {
     "name": "stdout",
     "output_type": "stream",
     "text": [
      "non-daemon thread 3\n",
      "non-daemon thread 4\n"
     ]
    }
   ],
   "source": [
    "from threading import *\n",
    "import time \n",
    "\n",
    "def thread_1(n):\n",
    "    for i in range(n):\n",
    "        print(\"non-daemon thread\",i)\n",
    "        time.sleep(2)\n",
    "create_thread = Thread(target=thread_1,args=(5,))\n",
    "create_thread.setDaemon(True)\n",
    "create_thread.start()\n",
    "time.sleep(5)\n",
    "print(\"main Thread over\")"
   ]
  },
  {
   "cell_type": "markdown",
   "metadata": {},
   "source": [
    "### wait to fininsh one thread \n",
    "- join()"
   ]
  },
  {
   "cell_type": "code",
   "execution_count": 2,
   "metadata": {},
   "outputs": [
    {
     "name": "stdout",
     "output_type": "stream",
     "text": [
      "....box is Open\n",
      "led is On\n",
      "8\n"
     ]
    },
    {
     "name": "stdout",
     "output_type": "stream",
     "text": [
      "led is off\n",
      "led is On\n",
      "....box is Close\n"
     ]
    }
   ],
   "source": [
    "import threading \n",
    "import time \n",
    "\n",
    "def box(n):\n",
    "    for i in range(10):\n",
    "        print(\"....box is Open\")\n",
    "        time.sleep(n)\n",
    "        print(\"....box is Close\")\n",
    "        time.sleep(n)\n",
    "def led(n):\n",
    "    for i in range(10):\n",
    "        print(\"led is On\")\n",
    "        time.sleep(n)\n",
    "        print(\"led is off\")\n",
    "        time.sleep(n)\n",
    "box_thread =threading.Thread(target=box,args=(5,))\n",
    "led_thread = threading.Thread(target=led,args=(2,))\n",
    "box_thread.start()\n",
    "led_thread.start()\n",
    "time.sleep(1)\n",
    "print(threading.active_count())\n"
   ]
  },
  {
   "cell_type": "code",
   "execution_count": 3,
   "metadata": {},
   "outputs": [
    {
     "name": "stdout",
     "output_type": "stream",
     "text": [
      "led is off\n",
      "....box is Open\n",
      "led is On\n",
      "....box is Open\n",
      "led is off\n",
      "....box is Close\n",
      "led is On\n",
      "led is off\n",
      "....box is Close\n",
      "led is On\n",
      "....box is Open\n",
      "led is off\n",
      "....box is Open\n",
      "led is On\n",
      "....box is Close\n",
      "led is off\n",
      "led is On\n",
      "....box is Close\n",
      "led is off\n",
      "....box is Open\n",
      "led is On\n",
      "....box is Open\n",
      "led is off\n",
      "....box is Close\n",
      "led is On\n",
      "led is off\n",
      "....box is Close\n",
      "led is On\n",
      "led is On\n",
      "led is off\n",
      "led is off\n",
      "....box is Open\n",
      "led is On\n",
      "led is off\n",
      "led is On\n",
      "....box is Close\n",
      "led is off\n",
      "7\n"
     ]
    },
    {
     "name": "stdout",
     "output_type": "stream",
     "text": [
      "....box is Open\n",
      "....box is Close\n",
      "....box is Open\n",
      "....box is Close\n",
      "....box is Open\n",
      "....box is Close\n",
      "....box is Open\n",
      "....box is Close\n",
      "....box is Open\n",
      "....box is Close\n"
     ]
    }
   ],
   "source": [
    "import threading \n",
    "import time \n",
    "\n",
    "def box(n):\n",
    "    for i in range(3):\n",
    "            print(\"....box is Open\")\n",
    "            time.sleep(n)\n",
    "            print(\"....box is Close\")\n",
    "            time.sleep(n)\n",
    "\n",
    "def led(n):\n",
    "    for i in range(3):\n",
    "        print(\"led is On\")\n",
    "        time.sleep(n)\n",
    "        print(\"led is off\")\n",
    "        time.sleep(n)\n",
    "box_thread =threading.Thread(target=box,args=(5,))\n",
    "led_thread = threading.Thread(target=led,args=(2,))\n",
    "box_thread.start()\n",
    "box_thread.join()\n",
    "led_thread.start()\n",
    "led_thread.join()\n",
    "time.sleep(1)\n",
    "print(threading.active_count())"
   ]
  },
  {
   "cell_type": "markdown",
   "metadata": {},
   "source": [
    "### ThreadPoolExecutor\n",
    " - start group of threads"
   ]
  },
  {
   "cell_type": "code",
   "execution_count": 7,
   "metadata": {},
   "outputs": [
    {
     "name": "stdout",
     "output_type": "stream",
     "text": [
      "Thread %s: starting 0\n",
      "Thread %s: starting 1\n",
      "Thread %s: starting 2\n"
     ]
    },
    {
     "name": "stdout",
     "output_type": "stream",
     "text": [
      "Thread %s: finishing 0 Thread %s: finishing 2 Thread %s: finishing 1 "
     ]
    }
   ],
   "source": [
    "import threading\n",
    "import time\n",
    "\n",
    "def thread_function(name):\n",
    "    print(\"Thread %s: starting\", name)\n",
    "    time.sleep(2)\n",
    "    print(\"Thread %s: finishing\", name , end = \" \")\n",
    "\n",
    "threads = list()\n",
    "for index in range(3):\n",
    "        x = threading.Thread(target=thread_function, args=(index,))\n",
    "        threads.append(x)\n",
    "        x.start()\n"
   ]
  },
  {
   "cell_type": "code",
   "execution_count": 16,
   "metadata": {},
   "outputs": [
    {
     "name": "stdout",
     "output_type": "stream",
     "text": [
      "Thread %s: starting 0\n",
      "Thread %s: starting 1\n",
      "Thread %s: starting 2\n",
      "Thread %s: finishing 1\n",
      "Thread %s: finishing 2\n",
      "Thread %s: finishing 0\n"
     ]
    }
   ],
   "source": [
    "import threading\n",
    "import time\n",
    "from concurrent.futures import  ThreadPoolExecutor\n",
    "def thread_function(name):\n",
    "    print(\"Thread %s: starting\", name, end = \"\\n\")\n",
    "    time.sleep(2)\n",
    "    print(\"Thread %s: finishing\", name , end = \"\\n\")\n",
    "with ThreadPoolExecutor(max_workers=5) as executor:\n",
    "    executor.map(thread_function,range(3))"
   ]
  },
  {
   "cell_type": "code",
   "execution_count": null,
   "metadata": {},
   "outputs": [],
   "source": []
  }
 ],
 "metadata": {
  "kernelspec": {
   "display_name": "Python 3",
   "language": "python",
   "name": "python3"
  },
  "language_info": {
   "codemirror_mode": {
    "name": "ipython",
    "version": 3
   },
   "file_extension": ".py",
   "mimetype": "text/x-python",
   "name": "python",
   "nbconvert_exporter": "python",
   "pygments_lexer": "ipython3",
   "version": "3.8.10"
  },
  "orig_nbformat": 4
 },
 "nbformat": 4,
 "nbformat_minor": 2
}
