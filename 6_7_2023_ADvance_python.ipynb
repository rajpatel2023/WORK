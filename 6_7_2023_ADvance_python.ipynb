{
 "cells": [
  {
   "attachments": {},
   "cell_type": "markdown",
   "metadata": {},
   "source": [
    "### [RegEX](https://regex101.com/)"
   ]
  },
  {
   "cell_type": "code",
   "execution_count": null,
   "metadata": {},
   "outputs": [],
   "source": [
    "import re"
   ]
  },
  {
   "attachments": {},
   "cell_type": "markdown",
   "metadata": {},
   "source": [
    "### re function\n",
    "- findall() [not mtach return empty string ]\n",
    "- search() [only first search] [if not present its none but if start thorw error]\n",
    "- split() [ split with context but not incliude it]\n",
    "- sub() [ change all matches] control the specic change with count"
   ]
  },
  {
   "attachments": {},
   "cell_type": "markdown",
   "metadata": {},
   "source": []
  },
  {
   "cell_type": "code",
   "execution_count": null,
   "metadata": {},
   "outputs": [],
   "source": [
    "string = \"Lorem ipsum dolor sit amet. Aut veritatis blanditiis At veniam nostrum non consequuntur voluptas qui quisquam dolorum. Ut sapiente voluptatibus vel exercitationem galisum qui obcaecati fugiat ad illum galisum et aliquam voluptatibus. Vel ipsa vitae et esse molestiae est fugiat sunt ea temporibus illo qui architecto assumenda aut officiis provident cum quae laboriosam. Eos impedit illum consequatur est officiis incidunt sit veritatis explicabo id internos enim 33 aperiam pariatur sit nihil illum maiores qui amet blanditiis.\""
   ]
  },
  {
   "cell_type": "code",
   "execution_count": null,
   "metadata": {},
   "outputs": [],
   "source": [
    "#findall()\n",
    "all_il = re.findall(\"ILL\",string)\n",
    "all_il\n",
    "\n",
    "#split()\n",
    "split_ill = re.split(\"ill\",string)\n",
    "split_ill\n",
    "\n",
    "#sub()\n",
    "sub_ill = re.sub(\"ILL\",\"ill\",string,2)\n",
    "sub_ill\n"
   ]
  },
  {
   "cell_type": "code",
   "execution_count": null,
   "metadata": {},
   "outputs": [],
   "source": [
    "#search\n",
    "first_serch_il = re.search(\"ill\",string)\n",
    "print(first_serch_il.span())\n",
    "\n",
    "first_serch_il = re.search(\"ill\",string)\n",
    "print(first_serch_il.string)\n",
    "\n",
    "first_serch_il = re.search(\"ill\",string)\n",
    "print(first_serch_il.group())"
   ]
  },
  {
   "attachments": {},
   "cell_type": "markdown",
   "metadata": {},
   "source": [
    "# Metacharacters\n"
   ]
  },
  {
   "attachments": {},
   "cell_type": "markdown",
   "metadata": {},
   "source": [
    "### sets \n",
    "1.    [ams]           any     a,m,s\n",
    "2.    [a-n]           any     a to n\n",
    "3.    [^arm]          any     except a,r,m\n",
    "4.    [012345]        any     0,1,2,3,4,5\n",
    "5.    [0-9]           any     0 to 9\n",
    "6.    [0-5][0-9]      any     first 0 to 5 2nd 0 to 9\n",
    "7.    [a-zA-Z]        any     a to z OR A to Z\n",
    "8.    [+]             character + "
   ]
  },
  {
   "cell_type": "code",
   "execution_count": null,
   "metadata": {},
   "outputs": [],
   "source": [
    "import re"
   ]
  },
  {
   "cell_type": "code",
   "execution_count": null,
   "metadata": {},
   "outputs": [],
   "source": [
    "str_ = \"Hello there, good afternoon 1002020265454\"\n"
   ]
  },
  {
   "cell_type": "code",
   "execution_count": null,
   "metadata": {},
   "outputs": [],
   "source": [
    "#1\n",
    "x = re.findall(\"[lo]\",str_) #re.findall(\"[llo]\",str_)\n",
    "print(x)\n",
    "#2\n",
    "x = re.findall(\"[a-l]\",str_)\n",
    "print(x)\n",
    "#3\n",
    "x = re.findall(\"[^lo]\",str_)\n",
    "print(x)\n",
    "#6\n",
    "x = re.findall(\"[a-l][a-l]\",str_)\n",
    "print(x)\n",
    "#7\n",
    "x = re.findall(\"[a-zA-Z]\",str_)\n",
    "print(x)\n",
    "\n",
    "x = re.findall(\" \",str_)\n",
    "print(x)\n"
   ]
  },
  {
   "attachments": {},
   "cell_type": "markdown",
   "metadata": {},
   "source": [
    "### special character\n",
    "1. \\d       [digit present]\n",
    "2. \\D       [ digit not present]\n",
    "3. \\s       [wightspace \" \"]\n",
    "4. \\w       [any char or number]\n",
    "5. \\W       [not present]\n",
    "6. \\A       [first cahrecter but psace also count]\n",
    "7. \\Z       [end of string]\n",
    "8. \\b       [starting or end of ] _word_\n",
    "9. \\B       [present bot not at sresting or ending in word]"
   ]
  },
  {
   "cell_type": "code",
   "execution_count": null,
   "metadata": {},
   "outputs": [],
   "source": [
    "str_ = \" A Hello there, good afternoon 1002020265454 854 548 8548954 54\""
   ]
  },
  {
   "cell_type": "code",
   "execution_count": null,
   "metadata": {},
   "outputs": [],
   "source": [
    "# 1\n",
    "x = re.findall(\"\\d\",str_)\n",
    "print(x)\n",
    "#2\n",
    "x = re.findall(\"\\D\",str_)\n",
    "print(x)\n",
    "#3\n",
    "x = re.findall(\"\\s\",str_)\n",
    "print(x)\n",
    "#4\n",
    "x = re.findall(\"\\w\",str_)\n",
    "print(x)\n",
    "#5\n",
    "x = re.findall(\"\\W\",str_)\n",
    "print(x)\n",
    "#6\n",
    "x = re.findall(r\"\\AA\",str_)\n",
    "print(x)\n",
    "#7\n",
    "x = re.findall(r\"54\\Z\",str_)\n",
    "print(x)\n",
    "#8\n",
    "x = re.findall(r\"54\\b\",str_)\n",
    "print(x)\n",
    "#9\n",
    "x = re.findall(r\"\\b8\",str_)\n",
    "print(x)"
   ]
  },
  {
   "attachments": {},
   "cell_type": "markdown",
   "metadata": {},
   "source": [
    "# symbols\n",
    "1. []      set\n",
    "2. \\       special char\n",
    "3. .       Any char[1 space]\n",
    "4. ^       start with \n",
    "5. $        Ends with\n",
    "6.  \\*        Zero or more \n",
    "7. \\+        one or moew\n",
    "8.  ?       xero or one\n",
    "9. |        either "
   ]
  },
  {
   "cell_type": "code",
   "execution_count": null,
   "metadata": {},
   "outputs": [],
   "source": [
    "import re\n",
    "str_ = \"Hello hello there 548 8548954 54\"\n",
    "x = re.findall(\"[a-m]\",str_)\n",
    "print(x)\n",
    "x = re.findall(\"\\d\",str_)\n",
    "print(x)\n",
    "x = re.findall(\"H...o\",str_)\n",
    "print(x)\n",
    "x = re.findall(\"lo$\",str_)\n",
    "print(x)\n",
    "x = re.findall(\"He.*o\",str_)\n",
    "print(x)\n",
    "# one or more occurrences of (.)\n",
    "x = re.findall(\"He.+o\",str_)\n",
    "print(x)\n",
    "# zero or one occurrences of (.)\n",
    "x = re.findall(\"He.?o\",str_)\n",
    "print(x)\n",
    "# 2 any character\n",
    "x = re.findall(\"He.{2}o\",str_)\n",
    "print(x)\n",
    "# Either or\n",
    "x = re.findall(\"Hello|hello\",str_)\n",
    "print(x)"
   ]
  },
  {
   "attachments": {},
   "cell_type": "markdown",
   "metadata": {},
   "source": [
    "\n",
    "### class and object [multilevel inheritance]"
   ]
  },
  {
   "cell_type": "code",
   "execution_count": 82,
   "metadata": {},
   "outputs": [
    {
     "name": "stdout",
     "output_type": "stream",
     "text": [
      "dog barking 10\n"
     ]
    }
   ],
   "source": [
    "class Animal:\n",
    "    def __init__(self,c):\n",
    "        self.c = c\n",
    "    def speak1(self):  \n",
    "        print(\"Animal Speaking\",self.c)  \n",
    "    \n",
    "class Dog(Animal):\n",
    "    def __init__(self,b,c):\n",
    "        self.b = b \n",
    "        super().__init__(c)\n",
    "    def speak2(self):  \n",
    "        print(\"dog barking\",self.b)  \n",
    "\n",
    "class DogChild(Dog):  \n",
    "    def __init__(self,a,b,c):\n",
    "        self.a = a\n",
    "        super().__init__(b,c)\n",
    "    def speak(self):  \n",
    "        super().speak()\n",
    "        print(\"Eating bread...\",self.b) \n",
    "d = DogChild(25,10,5) \n",
    "d.speak2()\n"
   ]
  },
  {
   "cell_type": "code",
   "execution_count": 39,
   "metadata": {},
   "outputs": [
    {
     "name": "stdout",
     "output_type": "stream",
     "text": [
      "dog barking p 23\n"
     ]
    }
   ],
   "source": [
    "class Animal:\n",
    "    raj = \"rj\"\n",
    "    def speak1(self):  \n",
    "        print(\"Animal Speaking\",self.raj)  \n",
    "class Dog(Animal):\n",
    "    panthil = \"p\"\n",
    "    def speak2(self,g):  \n",
    "        print(\"dog barking\",self.panthil,g)  \n",
    "class DogChild(Dog):  \n",
    "    raja = \"r\"\n",
    "    def speak3(self):  \n",
    "        print(\"Eating bread...\",self.raja) \n",
    "d = DogChild() \n",
    "d.speak2(23)\n"
   ]
  },
  {
   "attachments": {},
   "cell_type": "markdown",
   "metadata": {},
   "source": [
    "### file handling\n",
    "- r read  or error\n",
    "- a continue write or create no error\n",
    "- w rewrite or create\n",
    "- x create or error if exist"
   ]
  },
  {
   "cell_type": "code",
   "execution_count": 53,
   "metadata": {},
   "outputs": [
    {
     "name": "stdout",
     "output_type": "stream",
     "text": [
      "Hello\n"
     ]
    }
   ],
   "source": [
    "with open(\"6_7_2023.txt\",\"r\") as f:\n",
    "    print(f.read(5)) # Charecter"
   ]
  },
  {
   "cell_type": "code",
   "execution_count": 56,
   "metadata": {},
   "outputs": [
    {
     "name": "stdout",
     "output_type": "stream",
     "text": [
      "Hello! Welcome to demofile.txt\n",
      "\n",
      "This file is for testing purposes.\n",
      "\n",
      "Good Luck!\n"
     ]
    }
   ],
   "source": [
    "with open(\"6_7_2023.txt\",\"r\") as f:\n",
    "    print(f.readline()) # Charecter\n",
    "    for x in f:\n",
    "        print(x)"
   ]
  },
  {
   "cell_type": "code",
   "execution_count": 60,
   "metadata": {},
   "outputs": [],
   "source": [
    "text = \" good to see u\"\n",
    "with open(\"6_7_2023.txt\",\"a\") as f:\n",
    "    f.write(text)\n",
    "\n",
    "    "
   ]
  },
  {
   "cell_type": "code",
   "execution_count": null,
   "metadata": {},
   "outputs": [],
   "source": [
    "#delete file\n",
    "import os\n",
    "if os.path.exists(\"demofile.txt\"):\n",
    "  os.remove(\"demofile.txt\")\n",
    "else:\n",
    "  print(\"The file does not exist\")\n",
    "\n",
    "#delete folder\n",
    "import os\n",
    "os.rmdir(\"myfolder\")\n"
   ]
  },
  {
   "attachments": {},
   "cell_type": "markdown",
   "metadata": {},
   "source": [
    "### [Multiple Updates](https://pynative.com/python-mysql-update-data/)"
   ]
  },
  {
   "cell_type": "code",
   "execution_count": 85,
   "metadata": {},
   "outputs": [
    {
     "name": "stdout",
     "output_type": "stream",
     "text": [
      "<mysql.connector.connection_cext.CMySQLConnection object at 0x00000217AFA33490>\n"
     ]
    }
   ],
   "source": [
    "import mysql.connector\n",
    "try:\n",
    "  mydb = mysql.connector.connect(\n",
    "    host=\"127.0.0.1\",\n",
    "    user=\"Rajpatel\",\n",
    "    password=\"Raj@1234\",\n",
    "    database=\"bookstore\"\n",
    "  )\n",
    "\n",
    "  print(mydb)\n",
    "except Exception as e:\n",
    "  print(e)"
   ]
  },
  {
   "cell_type": "code",
   "execution_count": 86,
   "metadata": {},
   "outputs": [
    {
     "name": "stdout",
     "output_type": "stream",
     "text": [
      "1 was inserted.\n"
     ]
    }
   ],
   "source": [
    "mycursor = mydb.cursor()\n",
    "\n",
    "sql = \"UPDATE  customers   set name = %s , address= %s where id = %s;\"\n",
    "val = [\n",
    "  ('Amy', 'Apple st 652',28),\n",
    "  ('RAJ', 'Lowstreet 4',29),\n",
    "  ('Sandy', 's',30),\n",
    "  ('Hannah', 'Mountain 21',31)\n",
    "\n",
    "]\n",
    "\n",
    "mycursor.executemany(sql, val) #executemany for multiple query\n",
    "\n",
    "mydb.commit()\n",
    "\n",
    "print(mycursor.rowcount, \"was inserted.\")"
   ]
  },
  {
   "attachments": {},
   "cell_type": "markdown",
   "metadata": {},
   "source": [
    "RREGULAR EXPRESION PRECTICE"
   ]
  },
  {
   "attachments": {},
   "cell_type": "markdown",
   "metadata": {},
   "source": [
    "raj.patel@itidoltechnologies.com\n",
    "\n",
    "regex = '^[a-z0-9]+[.]?[a-z0-9]+[@]\\w+[.]\\w{2,3}$'\n",
    "\n",
    "^ = startwith \n",
    "\n",
    "[a-z0-9] = a to 9\n",
    "+ =  one or any\n",
    "\n",
    "[.] = .\n",
    "? = zero or one \n",
    "\n",
    "[a-z0-9] = a to 9\n",
    "+ =  one or any\n",
    "\n",
    "@ = @\n",
    "\\w = word\n",
    "+ = one or more\n",
    "\n",
    ". = .\n",
    "\\w{2,3} 2 or 3 words\n",
    "\n",
    "$ ending\n",
    "\n"
   ]
  },
  {
   "attachments": {},
   "cell_type": "markdown",
   "metadata": {},
   "source": [
    "At least 8 characters\n",
    "\n",
    "uppercase letters: A-Z \\\n",
    "lowercase letters: a-z\\\n",
    "numbers: 0-9\\\n",
    "any of the special characters: @#$%^&+=\n",
    "\n",
    "\n",
    "[A-Z]+ # must one capital\\\n",
    "[a-z]+ # must one small present\\\n",
    "[0-9]+ # must present \\\n",
    "[@#$%^&]+ one or more\\\n",
    "{8,}  # leanth\\\n",
    "\n",
    "^([A-Z.]?)([a-z.]+)(\\d+)(?=.*[@$!%*#?&])\n",
    "\n",
    "\n"
   ]
  },
  {
   "cell_type": "code",
   "execution_count": 75,
   "metadata": {},
   "outputs": [],
   "source": [
    "import re \n"
   ]
  },
  {
   "cell_type": "code",
   "execution_count": 76,
   "metadata": {},
   "outputs": [],
   "source": [
    "text = \"raj4312p.Gmail.com\" "
   ]
  },
  {
   "cell_type": "code",
   "execution_count": 78,
   "metadata": {},
   "outputs": [
    {
     "name": "stdout",
     "output_type": "stream",
     "text": [
      "['.', '.']\n"
     ]
    }
   ],
   "source": [
    "x = re.findall(\"[.]\",text)\n",
    "print(x)"
   ]
  },
  {
   "cell_type": "markdown",
   "metadata": {},
   "source": [
    "https://medium.com/analytics-vidhya/regular-expression-in-python-5ab2e8b707f1"
   ]
  },
  {
   "attachments": {},
   "cell_type": "markdown",
   "metadata": {},
   "source": [
    "\"^(?=.*?[A-Z])(?=.*?[a-z])(?=.*?[0-9])(?=.*?[#?!@$%^&*-]).{8,}$\""
   ]
  }
 ],
 "metadata": {
  "kernelspec": {
   "display_name": "Python 3",
   "language": "python",
   "name": "python3"
  },
  "language_info": {
   "codemirror_mode": {
    "name": "ipython",
    "version": 3
   },
   "file_extension": ".py",
   "mimetype": "text/x-python",
   "name": "python",
   "nbconvert_exporter": "python",
   "pygments_lexer": "ipython3",
   "version": "3.8.10"
  },
  "orig_nbformat": 4
 },
 "nbformat": 4,
 "nbformat_minor": 2
}
